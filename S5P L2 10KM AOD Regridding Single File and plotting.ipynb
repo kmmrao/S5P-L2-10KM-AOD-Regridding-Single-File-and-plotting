{
 "cells": [
  {
   "cell_type": "code",
   "execution_count": null,
   "id": "04e5b1b1",
   "metadata": {},
   "outputs": [],
   "source": [
    "cd G:\\sp5 2022 Diali"
   ]
  },
  {
   "cell_type": "code",
   "execution_count": 1,
   "id": "a5b120eb",
   "metadata": {},
   "outputs": [],
   "source": [
    "import os\n",
    "import harp\n",
    "import numpy as np\n",
    "import pandas as pd\n",
    "import matplotlib.pyplot as plt\n",
    "from matplotlib.colors import Normalize\n",
    "import cartopy.crs as ccrs\n",
    "from cmcrameri import cm\n",
    "import requests\n",
    "import sentinelsat\n",
    "import shutil\n",
    "import cartopy.io.shapereader as shpreader\n",
    "import cartopy.feature as cfeature\n",
    "import matplotlib.ticker as mticker\n",
    "from cartopy.mpl.gridliner import LONGITUDE_FORMATTER, LATITUDE_FORMATTER"
   ]
  },
  {
   "cell_type": "code",
   "execution_count": null,
   "id": "7e70f345",
   "metadata": {},
   "outputs": [],
   "source": [
    "filename = \"S5P_OFFL_L2__SO2____20221018T065817_20221018T083946_25976_03_020401_20221020T044200.nc\""
   ]
  },
  {
   "cell_type": "code",
   "execution_count": null,
   "id": "7a49bfd8",
   "metadata": {},
   "outputs": [],
   "source": [
    "# api = sentinelsat.SentinelAPI('s5pguest', 's5pguest', 'https://s5phub.copernicus.eu/dhus', show_progressbars=False)\n",
    "# result = api.download_all(api.query(filename=filename))"
   ]
  },
  {
   "cell_type": "code",
   "execution_count": null,
   "id": "0f6a2b69",
   "metadata": {},
   "outputs": [],
   "source": [
    "product = harp.import_product(filename)"
   ]
  },
  {
   "cell_type": "code",
   "execution_count": null,
   "id": "efb9d259",
   "metadata": {},
   "outputs": [],
   "source": [
    "print(product)"
   ]
  },
  {
   "cell_type": "code",
   "execution_count": null,
   "id": "5bbdadbe",
   "metadata": {},
   "outputs": [],
   "source": [
    "print(product.SO2_column_number_density)"
   ]
  },
  {
   "cell_type": "code",
   "execution_count": null,
   "id": "9579cb6b",
   "metadata": {},
   "outputs": [],
   "source": [
    "print(type(product.SO2_column_number_density.data))\n",
    "print(product.SO2_column_number_density.data.shape)"
   ]
  },
  {
   "cell_type": "markdown",
   "id": "b40f2e6a",
   "metadata": {},
   "source": [
    "# Plotting"
   ]
  },
  {
   "cell_type": "code",
   "execution_count": null,
   "id": "49702c82",
   "metadata": {},
   "outputs": [],
   "source": [
    "SO2val = product.SO2_column_number_density.data\n",
    "SO2units = product.SO2_column_number_density.unit\n",
    "SO2description = product.SO2_column_number_density.description\n",
    "\n",
    "latc=product.latitude.data\n",
    "lonc=product.longitude.data\n",
    "\n",
    "colortable=cm.batlow\n",
    "vmin=0\n",
    "vmax=0.0001"
   ]
  },
  {
   "cell_type": "code",
   "execution_count": null,
   "id": "a79cfbd9",
   "metadata": {},
   "outputs": [],
   "source": [
    "fig=plt.figure(figsize=(20, 10))\n",
    "ax = plt.axes(projection=ccrs.PlateCarree())\n",
    "\n",
    "\n",
    "img = plt.scatter(lonc, latc, c=SO2val,\n",
    "                vmin=vmin, vmax=vmax, cmap=colortable, s=1, transform=ccrs.PlateCarree())\n",
    "\n",
    "ax.coastlines()\n",
    "\n",
    "cbar = fig.colorbar(img, ax=ax, orientation='horizontal', fraction=0.04, pad=0.1)\n",
    "cbar.set_label(f'{SO2description} [{SO2units}]')\n",
    "cbar.ax.tick_params(labelsize=14)\n",
    "plt.show()"
   ]
  },
  {
   "cell_type": "markdown",
   "id": "353290f9",
   "metadata": {},
   "source": [
    "# Applying operations when importing data with HARP"
   ]
  },
  {
   "cell_type": "code",
   "execution_count": null,
   "id": "b37625ec",
   "metadata": {},
   "outputs": [],
   "source": [
    "operations = \";\".join([\n",
    "    \"latitude>-20;latitude<40\",\n",
    "    \"SO2_column_number_density_validity>50\",\n",
    "    \"keep(datetime_start,scan_subindex,latitude,longitude,SO2_column_number_density)\",\n",
    "    \"derive(SO2_column_number_density [DU])\",\n",
    "])\n",
    "\n",
    "print(type(operations))\n",
    "print(operations)"
   ]
  },
  {
   "cell_type": "code",
   "execution_count": null,
   "id": "5903401b",
   "metadata": {},
   "outputs": [],
   "source": [
    "reduced_product = harp.import_product(filename, operations)"
   ]
  },
  {
   "cell_type": "code",
   "execution_count": null,
   "id": "1d324919",
   "metadata": {},
   "outputs": [],
   "source": [
    "print(reduced_product)"
   ]
  },
  {
   "cell_type": "code",
   "execution_count": null,
   "id": "48eb5d2d",
   "metadata": {},
   "outputs": [],
   "source": [
    "SO2val = reduced_product.SO2_column_number_density.data\n",
    "SO2units = reduced_product.SO2_column_number_density.unit\n",
    "SO2description = reduced_product.SO2_column_number_density.description\n",
    "\n",
    "latc=reduced_product.latitude.data\n",
    "lonc=reduced_product.longitude.data\n",
    "\n",
    "colortable=cm.batlow\n",
    "# For Dobson Units\n",
    "vmin=0\n",
    "vmax=8"
   ]
  },
  {
   "cell_type": "code",
   "execution_count": null,
   "id": "88eaf4a3",
   "metadata": {},
   "outputs": [],
   "source": [
    "SO2val.max()"
   ]
  },
  {
   "cell_type": "code",
   "execution_count": null,
   "id": "2661cd46",
   "metadata": {},
   "outputs": [],
   "source": [
    "fname= r'F:\\Indian Shape Files\\Indian Administrative bourders\\IND_adm\\IND_adm1.shp'\n",
    "adm1_shapes = list(shpreader.Reader(fname).geometries())\n",
    "fname2 = r'F:\\Indian Shape Files\\Only Indian Boundaries\\India_Boundary\\India_Boundary.shp'\n",
    "adm1_shapes2 = list(shpreader.Reader(fname2).geometries())\n",
    "fname3 = r'F:\\Clip-data-from-netCDF-file-and-plot-using-Cartopy-main\\Dharashiv.shp'\n",
    "adm1_shapes3 = list(shpreader.Reader(fname3).geometries())\n",
    "\n",
    "fig=plt.figure(figsize=(20, 10))\n",
    "ax = plt.axes(projection=ccrs.PlateCarree())\n",
    "ax.set_extent([68, 98, 8, 38], ccrs.PlateCarree())\n",
    "\n",
    "img = plt.scatter(lonc, latc, c=SO2val,\n",
    "                vmin=0, vmax=2, cmap='cool', s=1, transform=ccrs.PlateCarree())\n",
    "\n",
    "ax.coastlines()\n",
    "ax.add_geometries(adm1_shapes, ccrs.PlateCarree(),\n",
    "                  edgecolor='black', alpha=0.5,lw = 2, facecolor='none') #\n",
    "ax.add_geometries(adm1_shapes2, ccrs.PlateCarree(),\n",
    "                  edgecolor='black', alpha=0.5,lw = 1, facecolor='none') #\n",
    "ax.add_geometries(adm1_shapes3, ccrs.PlateCarree(),\n",
    "                  edgecolor='black', alpha=0.5,lw = 1, facecolor='none') #\n",
    "ax.gridlines()\n",
    "cbar = fig.colorbar(img, ax=ax, orientation='horizontal', fraction=0.04, pad=0.1)\n",
    "cbar.set_label(f'{SO2description} [{SO2units}]')\n",
    "cbar.ax.tick_params(labelsize=14)\n",
    "plt.show()"
   ]
  },
  {
   "cell_type": "code",
   "execution_count": null,
   "id": "35f43825",
   "metadata": {},
   "outputs": [],
   "source": [
    "cd C:\\Users\\IITM\\Downloads"
   ]
  },
  {
   "cell_type": "code",
   "execution_count": null,
   "id": "a5aedcfe",
   "metadata": {},
   "outputs": [],
   "source": [
    "filename_pattern = \"S5P_OFFL_L2__SO2____20221017T.nc\""
   ]
  },
  {
   "cell_type": "code",
   "execution_count": null,
   "id": "a6a89a32",
   "metadata": {},
   "outputs": [],
   "source": [
    "filename = \"S5P_OFFL_L2__SO2____20221027T054743_20221027T072913_26103_03_020401_20221029T033931.nc\"\n",
    "uvai_data = harp.import_product(filename)"
   ]
  },
  {
   "cell_type": "code",
   "execution_count": null,
   "id": "c207a23d",
   "metadata": {},
   "outputs": [],
   "source": [
    "print(uvai_data)"
   ]
  },
  {
   "cell_type": "code",
   "execution_count": null,
   "id": "b52f40ec",
   "metadata": {},
   "outputs": [],
   "source": [
    "print(uvai_data.SO2_column_number_density_validity)"
   ]
  },
  {
   "cell_type": "code",
   "execution_count": null,
   "id": "5d1b3fb1",
   "metadata": {},
   "outputs": [],
   "source": [
    "operations = \";\".join([\n",
    "    \"SO2_column_number_density_validity>50\",\n",
    "    \"keep(latitude_bounds,longitude_bounds,datetime_start,datetime_length,SO2_column_number_density)\",\n",
    "    \"derive(datetime_stop {time} [days since 2000-01-01])\",\n",
    "    \"derive(datetime_start [days since 2000-01-01])\",\n",
    "    \"exclude(datetime_length)\",\n",
    "    \"bin_spatial(721,-90,0.25,1441,-180,0.25)\", # lat_cells, corner_lat, lat_resolution, lon_cells, corner_lon, lon_resolution, \n",
    "    \"derive(SO2_column_number_density [DU])\",\n",
    "    \"derive(latitude {latitude})\",\n",
    "    \"derive(longitude {longitude})\",\n",
    "])"
   ]
  },
  {
   "cell_type": "code",
   "execution_count": null,
   "id": "184baeab",
   "metadata": {},
   "outputs": [],
   "source": [
    "reduce_operations = \"squash(time, (latitude, longitude, latitude_bounds, longitude_bounds));bin()\""
   ]
  },
  {
   "cell_type": "code",
   "execution_count": null,
   "id": "5595403b",
   "metadata": {},
   "outputs": [],
   "source": [
    "filenames = r\"S5P_OFFL_L2__SO2____20221024T*.nc\""
   ]
  },
  {
   "cell_type": "code",
   "execution_count": null,
   "id": "23adb611",
   "metadata": {},
   "outputs": [],
   "source": [
    "merged = harp.import_product(filenames, operations, reduce_operations=reduce_operations)"
   ]
  },
  {
   "cell_type": "code",
   "execution_count": null,
   "id": "dbd32be5",
   "metadata": {},
   "outputs": [],
   "source": [
    "print(merged)"
   ]
  },
  {
   "cell_type": "code",
   "execution_count": null,
   "id": "d7b7db75",
   "metadata": {},
   "outputs": [],
   "source": [
    "gridlat = np.append(merged.latitude_bounds.data[:,0], merged.latitude_bounds.data[-1,1])\n",
    "gridlon = np.append(merged.longitude_bounds.data[:,0], merged.longitude_bounds.data[-1,1])"
   ]
  },
  {
   "cell_type": "code",
   "execution_count": null,
   "id": "7ffbb545",
   "metadata": {},
   "outputs": [],
   "source": [
    "SO2val = merged.SO2_column_number_density.data\n",
    "SO2units = merged.SO2_column_number_density.unit\n",
    "SO2description = merged.SO2_column_number_density.description\n",
    "\n",
    "colortable=cm.batlow\n",
    "# For Dobson Units\n",
    "vmin=0\n",
    "vmax=1"
   ]
  },
  {
   "cell_type": "code",
   "execution_count": null,
   "id": "4a191aae",
   "metadata": {},
   "outputs": [],
   "source": [
    "fname= r'F:\\Indian Shape Files\\Indian Administrative bourders\\IND_adm\\IND_adm1.shp'\n",
    "adm1_shapes = list(shpreader.Reader(fname).geometries())\n",
    "fname2 = r'F:\\Indian Shape Files\\Only Indian Boundaries\\India_Boundary\\India_Boundary.shp'\n",
    "adm1_shapes2 = list(shpreader.Reader(fname2).geometries())\n",
    "fname3 = r'F:\\Clip-data-from-netCDF-file-and-plot-using-Cartopy-main\\Dharashiv.shp'\n",
    "adm1_shapes3 = list(shpreader.Reader(fname3).geometries())\n",
    "\n",
    "lon17 = 76.0420\n",
    "lat17 = 18.1853\n",
    "def main():\n",
    "    plt.figure(figsize=(15,12),facecolor = 'white')\n",
    "    ax = plt.axes(projection=ccrs.PlateCarree())\n",
    "    ax.set_extent([68,98,8,38], crs=ccrs.PlateCarree()) # [lonmin,lonmax,latmin,latmax]\n",
    "#     ax.coastlines()\n",
    "    ax.add_geometries(adm1_shapes, ccrs.PlateCarree(),\n",
    "                  edgecolor='red', alpha=0.5,lw = 2, facecolor='none') #\n",
    "    ax.add_geometries(adm1_shapes2, ccrs.PlateCarree(),\n",
    "                  edgecolor='red', alpha=0.5,lw = 2, facecolor='none') #\n",
    "#     ax.add_geometries(adm1_shapes3, ccrs.PlateCarree(),\n",
    "#                   edgecolor='red', alpha=0.5,lw = 2, facecolor='none') #\n",
    "#     ax.add_feature(cfeature.LAND, edgecolor='black')\n",
    "#     ax.add_feature(cfeature.BORDERS,lw = 2,edgecolor='red')\n",
    "#     ax.add_feature(cfeature.STATES.with_scale('10m'),\n",
    "#                linestyle='-', alpha=.25, facecolor='none',lw = 2, edgecolor='red')\n",
    "    \n",
    "#     ax.add_feature(cfeature.COASTLINE)\n",
    "#     ax.gridlines()\n",
    "    ax.set_facecolor('grey')\n",
    "    ax.set_title('Sulphur dioxide (SO2) from TROPOMI S5P on 24-10-2022' ,\n",
    "                  fontweight=\"bold\", size=20,family= 'Arial')\n",
    "    filled_c = plt.pcolormesh(gridlon, gridlat, SO2val[0,:,:], vmin=vmin, vmax=vmax, cmap='jet', transform=ccrs.PlateCarree())\n",
    "    \n",
    "    ax.plot(lon23102022,lat23102022,markersize=10,marker='^',color='yellow',lw=4,label='23102022')\n",
    "    ax.plot(lon24102022,lat24102022,markersize=10,marker='^',color='lime',lw=4,label='24102022')\n",
    "#     plt.text(76.0420,18.4,'Osmanabad Airport',horizontalalignment='right', color= 'red',fontweight=\"bold\", size=20,family= 'Arial')\n",
    "    ax.legend()\n",
    "    gl = ax.gridlines(draw_labels=True)\n",
    "    gl.top_labels = False\n",
    "    gl.right_labels = False\n",
    "    gl.xlocator = mticker.FixedLocator(np.arange(68,98,4))\n",
    "    gl.ylocator = mticker.FixedLocator(np.arange(8,38,4))\n",
    "    gl.xformatter = LONGITUDE_FORMATTER\n",
    "    gl.yformatter = LATITUDE_FORMATTER\n",
    "    gl.xlabel_style = {'size': 12,'color': 'red', 'weight': 'bold'}\n",
    "    gl.ylabel_style = {'size': 12,'color': 'red', 'weight': 'bold'}\n",
    "        # Add a colorbar for the filled contour.\n",
    "    a = plt.colorbar(filled_c,ax=ax, orientation='vertical',pad=0.05,shrink=0.75)\n",
    "    a.set_label(label=f'{SO2description}[DU]',weight='bold', fontsize='15')\n",
    "#     plt.figtext(0.25, 0.085, \"\\xa9 kmmraoiitm@gmail.com\", ha=\"center\", \n",
    "#                 fontsize=15)#box={\"facecolor\": \"green\", \"alpha\": 0.75})\n",
    "\n",
    "if __name__ == '__main__':\n",
    "    main()\n",
    "plt.savefig('SO2_TROPOMI_S5P_on_24102022.jpg',bbox_inches='tight',dpi=720)\n",
    "plt.show()"
   ]
  },
  {
   "cell_type": "code",
   "execution_count": null,
   "id": "500816d9",
   "metadata": {},
   "outputs": [],
   "source": []
  },
  {
   "cell_type": "markdown",
   "id": "d888fe4a",
   "metadata": {},
   "source": [
    "# Cyclone Satrang"
   ]
  },
  {
   "cell_type": "code",
   "execution_count": null,
   "id": "6c27d191",
   "metadata": {},
   "outputs": [],
   "source": [
    "sat = pd.read_excel(r'C:\\Users\\IITM\\Desktop\\Sitrang\\sitrang_cYCLONE.xlsx')"
   ]
  },
  {
   "cell_type": "code",
   "execution_count": null,
   "id": "b113d57e",
   "metadata": {},
   "outputs": [],
   "source": [
    "ti23102022 = sat['ISO_TIME'][0:4]\n",
    "lat23102022 = sat['LAT/degrees_north'][0:4]\n",
    "lon23102022 = sat['LON/degrees_east'][0:4]\n",
    "ti24102022 = sat['ISO_TIME'][4:]\n",
    "lat24102022 = sat['LAT/degrees_north'][4:]\n",
    "lon24102022 = sat['LON/degrees_east'][4:]"
   ]
  },
  {
   "cell_type": "code",
   "execution_count": null,
   "id": "4a25485b",
   "metadata": {},
   "outputs": [],
   "source": [
    "ti23102022"
   ]
  },
  {
   "cell_type": "code",
   "execution_count": null,
   "id": "978f8f3f",
   "metadata": {},
   "outputs": [],
   "source": [
    "sat['ISO_TIME']"
   ]
  },
  {
   "cell_type": "markdown",
   "id": "2698a769",
   "metadata": {},
   "source": [
    "# NO2"
   ]
  },
  {
   "cell_type": "code",
   "execution_count": 2,
   "id": "0700a6fc",
   "metadata": {},
   "outputs": [
    {
     "name": "stdout",
     "output_type": "stream",
     "text": [
      "C:\\Users\\IITM\\Downloads\n"
     ]
    }
   ],
   "source": [
    "cd C:\\Users\\IITM\\Downloads"
   ]
  },
  {
   "cell_type": "code",
   "execution_count": 3,
   "id": "89279f08",
   "metadata": {},
   "outputs": [],
   "source": [
    "filename = \"S5P_OFFL_L2__NO2____20221017T021258_20221017T035427_25959_03_020400_20221018T180242.nc\"\n",
    "trop_no2 = harp.import_product(filename)"
   ]
  },
  {
   "cell_type": "code",
   "execution_count": 4,
   "id": "2331ed7a",
   "metadata": {},
   "outputs": [
    {
     "name": "stdout",
     "output_type": "stream",
     "text": [
      "source product = 'S5P_OFFL_L2__NO2____20221017T021258_20221017T035427_25959_03_020400_20221018T180242.nc'\n",
      "\n",
      "int scan_subindex {time=1877400}\n",
      "double datetime_start {time=1877400} [seconds since 2010-01-01]\n",
      "float datetime_length [s]\n",
      "long orbit_index\n",
      "long validity {time=1877400}\n",
      "float latitude {time=1877400} [degree_north]\n",
      "float longitude {time=1877400} [degree_east]\n",
      "float latitude_bounds {time=1877400, 4} [degree_north]\n",
      "float longitude_bounds {time=1877400, 4} [degree_east]\n",
      "float sensor_latitude {time=1877400} [degree_north]\n",
      "float sensor_longitude {time=1877400} [degree_east]\n",
      "float sensor_altitude {time=1877400} [m]\n",
      "float solar_zenith_angle {time=1877400} [degree]\n",
      "float solar_azimuth_angle {time=1877400} [degree]\n",
      "float sensor_zenith_angle {time=1877400} [degree]\n",
      "float sensor_azimuth_angle {time=1877400} [degree]\n",
      "double pressure_bounds {time=1877400, vertical=34, 2} [Pa]\n",
      "float tropospheric_NO2_column_number_density {time=1877400} [mol/m^2]\n",
      "float tropospheric_NO2_column_number_density_uncertainty {time=1877400} [mol/m^2]\n",
      "byte tropospheric_NO2_column_number_density_validity {time=1877400}\n",
      "float tropospheric_NO2_column_number_density_amf {time=1877400} []\n",
      "float tropospheric_NO2_column_number_density_avk {time=1877400, vertical=34} []\n",
      "float NO2_column_number_density {time=1877400} [mol/m^2]\n",
      "float NO2_column_number_density_uncertainty {time=1877400} [mol/m^2]\n",
      "float NO2_column_number_density_amf {time=1877400} []\n",
      "float NO2_column_number_density_avk {time=1877400, vertical=34} []\n",
      "float stratospheric_NO2_column_number_density {time=1877400} [mol/m^2]\n",
      "float stratospheric_NO2_column_number_density_uncertainty {time=1877400} [mol/m^2]\n",
      "float stratospheric_NO2_column_number_density_amf {time=1877400} []\n",
      "float stratospheric_NO2_column_number_density_avk {time=1877400, vertical=34} []\n",
      "float NO2_slant_column_number_density {time=1877400} [mol/m^2]\n",
      "float NO2_slant_column_number_density_uncertainty {time=1877400} [mol/m^2]\n",
      "float cloud_fraction {time=1877400} []\n",
      "float absorbing_aerosol_index {time=1877400} []\n",
      "float cloud_albedo {time=1877400} []\n",
      "float cloud_pressure {time=1877400} [Pa]\n",
      "float scene_albedo {time=1877400} []\n",
      "float scene_pressure {time=1877400} [Pa]\n",
      "float surface_albedo {time=1877400} []\n",
      "float surface_altitude {time=1877400} [m]\n",
      "float surface_altitude_uncertainty {time=1877400} [m]\n",
      "float surface_pressure {time=1877400} [Pa]\n",
      "float surface_meridional_wind_velocity {time=1877400} [m/s]\n",
      "float surface_zonal_wind_velocity {time=1877400} [m/s]\n",
      "byte snow_ice_type {time=1877400}\n",
      "float sea_ice_fraction {time=1877400} []\n",
      "double tropopause_pressure {time=1877400} [Pa]\n",
      "long index {time=1877400}\n",
      "\n"
     ]
    }
   ],
   "source": [
    "print(trop_no2)"
   ]
  },
  {
   "cell_type": "code",
   "execution_count": 5,
   "id": "44161534",
   "metadata": {},
   "outputs": [
    {
     "name": "stdout",
     "output_type": "stream",
     "text": [
      "type = float\n",
      "dimension = {time=1877400}\n",
      "unit = 'mol/m^2'\n",
      "valid_min = -inf\n",
      "valid_max = inf\n",
      "description = 'tropospheric vertical column of NO2'\n",
      "data =\n",
      "[nan nan nan ... nan nan nan]\n",
      "\n"
     ]
    }
   ],
   "source": [
    "print(trop_no2.tropospheric_NO2_column_number_density )"
   ]
  },
  {
   "cell_type": "code",
   "execution_count": 6,
   "id": "34c5ed0e",
   "metadata": {},
   "outputs": [],
   "source": [
    "operations = \";\".join([\n",
    "    \"tropospheric_NO2_column_number_density_validity>75\",\n",
    "    \"keep(latitude_bounds,longitude_bounds,datetime_start,datetime_length,tropospheric_NO2_column_number_density )\",\n",
    "    \"derive(datetime_stop {time} [days since 2000-01-01])\",\n",
    "    \"derive(datetime_start [days since 2000-01-01])\",\n",
    "    \"exclude(datetime_length)\",\n",
    "    \"bin_spatial(721,-90,0.25,1441,-180,0.25)\", # lat_cells, corner_lat, lat_resolution, lon_cells, corner_lon, lon_resolution, \n",
    "    \"derive(tropospheric_NO2_column_number_density [Pmolec/cm2])\",\n",
    "    \"derive(latitude {latitude})\",\n",
    "    \"derive(longitude {longitude})\",\n",
    "])\n"
   ]
  },
  {
   "cell_type": "code",
   "execution_count": 7,
   "id": "bb2b88c9",
   "metadata": {},
   "outputs": [],
   "source": [
    "reduce_operations = \"squash(time, (latitude, longitude, latitude_bounds, longitude_bounds));bin()\""
   ]
  },
  {
   "cell_type": "code",
   "execution_count": 8,
   "id": "57f25518",
   "metadata": {},
   "outputs": [],
   "source": [
    "filenames = r\"S5P_OFFL_L2__NO2____20221023T*.nc\""
   ]
  },
  {
   "cell_type": "code",
   "execution_count": 9,
   "id": "12029249",
   "metadata": {},
   "outputs": [
    {
     "ename": "CLibraryError",
     "evalue": "[HDF5] H5C__load_entry(): incorrect metadata checksum after all read attempts (major=\"Object cache\", minor=\"Read failed\") (D:\\bld\\hdf5_split_1658932175228\\work\\src\\H5C.c:7315)",
     "output_type": "error",
     "traceback": [
      "\u001b[1;31m---------------------------------------------------------------------------\u001b[0m",
      "\u001b[1;31mCLibraryError\u001b[0m                             Traceback (most recent call last)",
      "\u001b[1;32m~\\AppData\\Local\\Temp\\ipykernel_11492\\3817253480.py\u001b[0m in \u001b[0;36m<module>\u001b[1;34m\u001b[0m\n\u001b[1;32m----> 1\u001b[1;33m \u001b[0mmerged\u001b[0m \u001b[1;33m=\u001b[0m \u001b[0mharp\u001b[0m\u001b[1;33m.\u001b[0m\u001b[0mimport_product\u001b[0m\u001b[1;33m(\u001b[0m\u001b[0mfilenames\u001b[0m\u001b[1;33m,\u001b[0m \u001b[0moperations\u001b[0m\u001b[1;33m,\u001b[0m \u001b[0mreduce_operations\u001b[0m\u001b[1;33m=\u001b[0m\u001b[0mreduce_operations\u001b[0m\u001b[1;33m)\u001b[0m\u001b[1;33m\u001b[0m\u001b[1;33m\u001b[0m\u001b[0m\n\u001b[0m",
      "\u001b[1;32m~\\anaconda3\\envs\\sentinel-5P\\lib\\site-packages\\harp\\_harppy.py\u001b[0m in \u001b[0;36mimport_product\u001b[1;34m(filename, operations, options, reduce_operations, post_operations)\u001b[0m\n\u001b[0;32m   1240\u001b[0m                 if _lib.harp_import(_encode_path(file), _encode_string(operations), _encode_string(options),\n\u001b[0;32m   1241\u001b[0m                                     c_product_ptr) != 0:\n\u001b[1;32m-> 1242\u001b[1;33m                     \u001b[1;32mraise\u001b[0m \u001b[0mCLibraryError\u001b[0m\u001b[1;33m(\u001b[0m\u001b[1;33m)\u001b[0m\u001b[1;33m\u001b[0m\u001b[1;33m\u001b[0m\u001b[0m\n\u001b[0m\u001b[0;32m   1243\u001b[0m                 \u001b[1;32mif\u001b[0m \u001b[0m_lib\u001b[0m\u001b[1;33m.\u001b[0m\u001b[0mharp_product_is_empty\u001b[0m\u001b[1;33m(\u001b[0m\u001b[0mc_product_ptr\u001b[0m\u001b[1;33m[\u001b[0m\u001b[1;36m0\u001b[0m\u001b[1;33m]\u001b[0m\u001b[1;33m)\u001b[0m \u001b[1;33m==\u001b[0m \u001b[1;36m1\u001b[0m\u001b[1;33m:\u001b[0m\u001b[1;33m\u001b[0m\u001b[1;33m\u001b[0m\u001b[0m\n\u001b[0;32m   1244\u001b[0m                     \u001b[0m_lib\u001b[0m\u001b[1;33m.\u001b[0m\u001b[0mharp_product_delete\u001b[0m\u001b[1;33m(\u001b[0m\u001b[0mc_product_ptr\u001b[0m\u001b[1;33m[\u001b[0m\u001b[1;36m0\u001b[0m\u001b[1;33m]\u001b[0m\u001b[1;33m)\u001b[0m\u001b[1;33m\u001b[0m\u001b[1;33m\u001b[0m\u001b[0m\n",
      "\u001b[1;31mCLibraryError\u001b[0m: [HDF5] H5C__load_entry(): incorrect metadata checksum after all read attempts (major=\"Object cache\", minor=\"Read failed\") (D:\\bld\\hdf5_split_1658932175228\\work\\src\\H5C.c:7315)"
     ]
    }
   ],
   "source": [
    "merged = harp.import_product(filenames, operations, reduce_operations=reduce_operations)"
   ]
  },
  {
   "cell_type": "code",
   "execution_count": null,
   "id": "eb9ffa8d",
   "metadata": {},
   "outputs": [],
   "source": [
    "gridlat = np.append(merged.latitude_bounds.data[:,0], merged.latitude_bounds.data[-1,1])\n",
    "gridlon = np.append(merged.longitude_bounds.data[:,0], merged.longitude_bounds.data[-1,1])"
   ]
  },
  {
   "cell_type": "code",
   "execution_count": null,
   "id": "8bcdb5fa",
   "metadata": {},
   "outputs": [],
   "source": [
    "NO2val = merged.tropospheric_NO2_column_number_density.data\n",
    "NO2units = merged.tropospheric_NO2_column_number_density.unit\n",
    "NO2description = merged.tropospheric_NO2_column_number_density.description\n",
    "\n",
    "colortable=cm.batlow\n",
    "# For Dobson Units\n",
    "vmin=0\n",
    "vmax=8"
   ]
  },
  {
   "cell_type": "code",
   "execution_count": null,
   "id": "fc1110ae",
   "metadata": {},
   "outputs": [],
   "source": [
    "fname= r'F:\\Indian Shape Files\\Indian Administrative bourders\\IND_adm\\IND_adm1.shp'\n",
    "adm1_shapes = list(shpreader.Reader(fname).geometries())\n",
    "fname2 = r'F:\\Indian Shape Files\\Only Indian Boundaries\\India_Boundary\\India_Boundary.shp'\n",
    "adm1_shapes2 = list(shpreader.Reader(fname2).geometries())\n",
    "fname3 = r'F:\\Clip-data-from-netCDF-file-and-plot-using-Cartopy-main\\Dharashiv.shp'\n",
    "adm1_shapes3 = list(shpreader.Reader(fname3).geometries())\n",
    "\n",
    "lon17 = 76.0420\n",
    "lat17 = 18.1853\n",
    "def main():\n",
    "    plt.figure(figsize=(15,12),facecolor = 'white')\n",
    "    ax = plt.axes(projection=ccrs.PlateCarree())\n",
    "    ax.set_extent([68,98,8,38], crs=ccrs.PlateCarree()) # [lonmin,lonmax,latmin,latmax]\n",
    "#     ax.coastlines()\n",
    "    ax.add_geometries(adm1_shapes, ccrs.PlateCarree(),\n",
    "                  edgecolor='red', alpha=0.5,lw = 2, facecolor='none') #\n",
    "    ax.add_geometries(adm1_shapes2, ccrs.PlateCarree(),\n",
    "                  edgecolor='red', alpha=0.5,lw = 2, facecolor='none') #\n",
    "#     ax.add_geometries(adm1_shapes3, ccrs.PlateCarree(),\n",
    "#                   edgecolor='red', alpha=0.5,lw = 2, facecolor='none') #\n",
    "#     ax.add_feature(cfeature.LAND, edgecolor='black')\n",
    "#     ax.add_feature(cfeature.BORDERS,lw = 2,edgecolor='red')\n",
    "#     ax.add_feature(cfeature.STATES.with_scale('10m'),\n",
    "#                linestyle='-', alpha=.25, facecolor='none',lw = 2, edgecolor='red')\n",
    "    \n",
    "#     ax.add_feature(cfeature.COASTLINE)\n",
    "#     ax.gridlines()\n",
    "    ax.set_facecolor('grey')\n",
    "    ax.set_title('Tropospheric NO2 from TROPOMI S5P on 23-10-2022' ,\n",
    "                  fontweight=\"bold\", size=20,family= 'Arial')\n",
    "    filled_c = plt.pcolormesh(gridlon, gridlat, NO2val[0,:,:], vmin=vmin, vmax=vmax, cmap='jet', transform=ccrs.PlateCarree())\n",
    "    \n",
    "    ax.plot(lon23102022,lat23102022,markersize=10,marker='^',color='yellow',lw=4,label='23102022')\n",
    "#     ax.plot(lon24102022,lat24102022,markersize=10,marker='^',color='lime',lw=4,label='24102022')\n",
    "#     plt.text(76.0420,18.4,'Osmanabad Airport',horizontalalignment='right', color= 'red',fontweight=\"bold\", size=20,family= 'Arial')\n",
    "    ax.legend()\n",
    "    gl = ax.gridlines(draw_labels=True)\n",
    "    gl.top_labels = False\n",
    "    gl.right_labels = False\n",
    "    gl.xlocator = mticker.FixedLocator(np.arange(68,98,4))\n",
    "    gl.ylocator = mticker.FixedLocator(np.arange(8,38,4))\n",
    "    gl.xformatter = LONGITUDE_FORMATTER\n",
    "    gl.yformatter = LATITUDE_FORMATTER\n",
    "    gl.xlabel_style = {'size': 12,'color': 'red', 'weight': 'bold'}\n",
    "    gl.ylabel_style = {'size': 12,'color': 'red', 'weight': 'bold'}\n",
    "        # Add a colorbar for the filled contour.\n",
    "    a = plt.colorbar(filled_c,ax=ax, orientation='vertical',pad=0.05,shrink=0.75)\n",
    "    a.set_label(label=f'{NO2description}[Pmol/cm2]',weight='bold', fontsize='15')\n",
    "#     plt.figtext(0.25, 0.085, \"\\xa9 kmmraoiitm@gmail.com\", ha=\"center\", \n",
    "#                 fontsize=15)#box={\"facecolor\": \"green\", \"alpha\": 0.75})\n",
    "\n",
    "if __name__ == '__main__':\n",
    "    main()\n",
    "plt.savefig('Trop_NO2_TROPOMI_S5P_on_23102022.jpg',bbox_inches='tight',dpi=720)\n",
    "plt.show()"
   ]
  },
  {
   "cell_type": "code",
   "execution_count": 11,
   "id": "1f9ff3ee",
   "metadata": {},
   "outputs": [],
   "source": [
    "import h5py "
   ]
  },
  {
   "cell_type": "code",
   "execution_count": null,
   "id": "f27be695",
   "metadata": {},
   "outputs": [],
   "source": []
  }
 ],
 "metadata": {
  "kernelspec": {
   "display_name": "Python 3 (ipykernel)",
   "language": "python",
   "name": "python3"
  },
  "language_info": {
   "codemirror_mode": {
    "name": "ipython",
    "version": 3
   },
   "file_extension": ".py",
   "mimetype": "text/x-python",
   "name": "python",
   "nbconvert_exporter": "python",
   "pygments_lexer": "ipython3",
   "version": "3.9.13"
  }
 },
 "nbformat": 4,
 "nbformat_minor": 5
}
